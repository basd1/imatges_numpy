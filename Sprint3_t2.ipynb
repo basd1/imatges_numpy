{
 "cells": [
  {
   "cell_type": "code",
   "execution_count": 1,
   "id": "8e7c098d",
   "metadata": {},
   "outputs": [],
   "source": [
    "import numpy as np\n",
    "import random as r\n",
    "#Exercici 1 de la tarea 2 del Sprint 3\n",
    "a = np.array([r.randint(0,25) for i in range(8)], dtype=np.int16)"
   ]
  },
  {
   "cell_type": "code",
   "execution_count": 2,
   "id": "4103fa14",
   "metadata": {},
   "outputs": [
    {
     "data": {
      "text/plain": [
       "1"
      ]
     },
     "execution_count": 2,
     "metadata": {},
     "output_type": "execute_result"
    }
   ],
   "source": [
    "a.ndim"
   ]
  },
  {
   "cell_type": "code",
   "execution_count": 3,
   "id": "8801b534",
   "metadata": {},
   "outputs": [
    {
     "name": "stdout",
     "output_type": "stream",
     "text": [
      "[11 10 14  1 11 10  4 24]\n"
     ]
    }
   ],
   "source": [
    "print(a)"
   ]
  },
  {
   "cell_type": "code",
   "execution_count": 4,
   "id": "0bed8cf0",
   "metadata": {},
   "outputs": [
    {
     "data": {
      "text/plain": [
       "10.625"
      ]
     },
     "execution_count": 4,
     "metadata": {},
     "output_type": "execute_result"
    }
   ],
   "source": [
    "#calculo el valor mitjà\n",
    "np.mean(a)"
   ]
  },
  {
   "cell_type": "code",
   "execution_count": 5,
   "id": "8c9bd8d3",
   "metadata": {},
   "outputs": [
    {
     "data": {
      "text/plain": [
       "array([ 0.5, -0.5,  3.5, -9.5,  0.5, -0.5, -6.5, 13.5])"
      ]
     },
     "execution_count": 5,
     "metadata": {},
     "output_type": "execute_result"
    }
   ],
   "source": [
    "#resto la mitjana resultant\n",
    "a - np.median(a)"
   ]
  },
  {
   "cell_type": "code",
   "execution_count": 6,
   "id": "19e02619",
   "metadata": {},
   "outputs": [
    {
     "name": "stdout",
     "output_type": "stream",
     "text": [
      "[[10 21  8 12 19]\n",
      " [ 4  2 24  2 20]\n",
      " [ 1 21 21  4  0]\n",
      " [17 21 25  4  1]\n",
      " [ 1 10  0  8 19]]\n"
     ]
    }
   ],
   "source": [
    "#Creo matriu 5x5\n",
    "b = np.array([[r.randint(0,25) for i in range(5)] for x in range(5)], dtype=np.int16)\n",
    "print(b)"
   ]
  },
  {
   "cell_type": "code",
   "execution_count": 7,
   "id": "d04d5b04",
   "metadata": {},
   "outputs": [
    {
     "data": {
      "text/plain": [
       "25"
      ]
     },
     "execution_count": 7,
     "metadata": {},
     "output_type": "execute_result"
    }
   ],
   "source": [
    "#El valor màxim de la matriu\n",
    "np.max(b)"
   ]
  },
  {
   "cell_type": "code",
   "execution_count": 8,
   "id": "18d59ebc",
   "metadata": {},
   "outputs": [
    {
     "data": {
      "text/plain": [
       "array([21, 24, 21, 25, 19], dtype=int16)"
      ]
     },
     "execution_count": 8,
     "metadata": {},
     "output_type": "execute_result"
    }
   ],
   "source": [
    "#El valor màxim de cada eix de la matriu\n",
    "b.max(axis=1)"
   ]
  },
  {
   "cell_type": "code",
   "execution_count": 9,
   "id": "c0c3a21a",
   "metadata": {},
   "outputs": [],
   "source": [
    "#Nivell 2\n",
    "#Mostrar que el broadcasting només és possible si coincideixen les\n",
    "#dimensions o una matriu té mida = 1\n",
    "\n",
    "c = np.array([r.randint(0,10) for i in range(8)])"
   ]
  },
  {
   "cell_type": "code",
   "execution_count": 10,
   "id": "0042416a",
   "metadata": {},
   "outputs": [],
   "source": [
    "#Arrays amb mides 1 i 2 per fer proves\n",
    "test1 = np.array([r.randint(0,10) for i in range(1)])\n",
    "test2 = np.array([r.randint(0,10) for i in range(2)])"
   ]
  },
  {
   "cell_type": "code",
   "execution_count": 11,
   "id": "1e57b6a7",
   "metadata": {},
   "outputs": [
    {
     "data": {
      "text/plain": [
       "array([14,  4, 14, 10,  9,  7,  5, 11])"
      ]
     },
     "execution_count": 11,
     "metadata": {},
     "output_type": "execute_result"
    }
   ],
   "source": [
    "#És possible operar amb la array \"c\" i \"test1\" que té mida 1, però no amb \"test2\"\n",
    "c + test1"
   ]
  },
  {
   "cell_type": "code",
   "execution_count": 12,
   "id": "4639487c",
   "metadata": {},
   "outputs": [
    {
     "data": {
      "text/plain": [
       "array([40,  0, 40, 24, 20, 12,  4, 28])"
      ]
     },
     "execution_count": 12,
     "metadata": {},
     "output_type": "execute_result"
    }
   ],
   "source": [
    "c * test1"
   ]
  },
  {
   "cell_type": "code",
   "execution_count": 13,
   "id": "27bfcba6",
   "metadata": {},
   "outputs": [
    {
     "ename": "ValueError",
     "evalue": "operands could not be broadcast together with shapes (8,) (2,) ",
     "output_type": "error",
     "traceback": [
      "\u001b[1;31m---------------------------------------------------------------------------\u001b[0m",
      "\u001b[1;31mValueError\u001b[0m                                Traceback (most recent call last)",
      "\u001b[1;32m<ipython-input-13-627802231406>\u001b[0m in \u001b[0;36m<module>\u001b[1;34m\u001b[0m\n\u001b[1;32m----> 1\u001b[1;33m \u001b[0mc\u001b[0m \u001b[1;33m+\u001b[0m \u001b[0mtest2\u001b[0m\u001b[1;33m\u001b[0m\u001b[1;33m\u001b[0m\u001b[0m\n\u001b[0m",
      "\u001b[1;31mValueError\u001b[0m: operands could not be broadcast together with shapes (8,) (2,) "
     ]
    }
   ],
   "source": [
    "c + test2"
   ]
  },
  {
   "cell_type": "code",
   "execution_count": 14,
   "id": "f6b7082f",
   "metadata": {},
   "outputs": [
    {
     "ename": "ValueError",
     "evalue": "operands could not be broadcast together with shapes (8,) (2,) ",
     "output_type": "error",
     "traceback": [
      "\u001b[1;31m---------------------------------------------------------------------------\u001b[0m",
      "\u001b[1;31mValueError\u001b[0m                                Traceback (most recent call last)",
      "\u001b[1;32m<ipython-input-14-59995b801581>\u001b[0m in \u001b[0;36m<module>\u001b[1;34m\u001b[0m\n\u001b[1;32m----> 1\u001b[1;33m \u001b[0mc\u001b[0m \u001b[1;33m*\u001b[0m \u001b[0mtest2\u001b[0m\u001b[1;33m\u001b[0m\u001b[1;33m\u001b[0m\u001b[0m\n\u001b[0m",
      "\u001b[1;31mValueError\u001b[0m: operands could not be broadcast together with shapes (8,) (2,) "
     ]
    }
   ],
   "source": [
    "c * test2"
   ]
  },
  {
   "cell_type": "code",
   "execution_count": 15,
   "id": "eb127017",
   "metadata": {},
   "outputs": [
    {
     "data": {
      "text/plain": [
       "array([ 4,  2, 24,  2, 20], dtype=int16)"
      ]
     },
     "execution_count": 15,
     "metadata": {},
     "output_type": "execute_result"
    }
   ],
   "source": [
    "#Exercici 5, extreure valors d'una fila i una columna, per això utilitzaré la array b inicialitzada en un exercici anterior\n",
    "\n",
    "l_fila = b[1] #Agafo la segona fila\n",
    "l_fila"
   ]
  },
  {
   "cell_type": "code",
   "execution_count": 16,
   "id": "3cc80378",
   "metadata": {},
   "outputs": [
    {
     "data": {
      "text/plain": [
       "array([ 8, 24, 21, 25,  0], dtype=int16)"
      ]
     },
     "execution_count": 16,
     "metadata": {},
     "output_type": "execute_result"
    }
   ],
   "source": [
    "l_colum = b[:,2] #Agafo la tercera columna\n",
    "l_colum"
   ]
  },
  {
   "cell_type": "code",
   "execution_count": 17,
   "id": "f0491a0c",
   "metadata": {},
   "outputs": [
    {
     "data": {
      "text/plain": [
       "array([12, 26, 45, 27, 20], dtype=int16)"
      ]
     },
     "execution_count": 17,
     "metadata": {},
     "output_type": "execute_result"
    }
   ],
   "source": [
    "#Sumo els seus valors\n",
    "l_fila + l_colum"
   ]
  },
  {
   "cell_type": "code",
   "execution_count": 29,
   "id": "c014413a",
   "metadata": {},
   "outputs": [],
   "source": [
    "#a"
   ]
  },
  {
   "cell_type": "code",
   "execution_count": 19,
   "id": "3cd16c65",
   "metadata": {},
   "outputs": [],
   "source": [
    "#Exercici 7, importo llibreries i carrego la foto\n",
    "import matplotlib.image as mpimg\n",
    "img = mpimg.imread(\"20170904_165255.jpg\")"
   ]
  },
  {
   "cell_type": "code",
   "execution_count": 20,
   "id": "5cc3592c",
   "metadata": {},
   "outputs": [
    {
     "name": "stdout",
     "output_type": "stream",
     "text": [
      "[[[ 79  79  79]\n",
      "  [ 78  78  78]\n",
      "  [ 75  75  75]\n",
      "  ...\n",
      "  [ 35  36  30]\n",
      "  [ 37  38  32]\n",
      "  [ 38  39  33]]\n",
      "\n",
      " [[ 77  77  77]\n",
      "  [ 77  77  77]\n",
      "  [ 74  74  74]\n",
      "  ...\n",
      "  [ 36  37  31]\n",
      "  [ 38  39  33]\n",
      "  [ 36  37  31]]\n",
      "\n",
      " [[ 76  76  76]\n",
      "  [ 76  76  76]\n",
      "  [ 74  74  74]\n",
      "  ...\n",
      "  [ 37  38  32]\n",
      "  [ 38  39  33]\n",
      "  [ 36  37  31]]\n",
      "\n",
      " ...\n",
      "\n",
      " [[223 227 228]\n",
      "  [224 228 229]\n",
      "  [222 226 227]\n",
      "  ...\n",
      "  [ 19  21  20]\n",
      "  [ 21  23  22]\n",
      "  [ 22  24  23]]\n",
      "\n",
      " [[223 227 228]\n",
      "  [223 227 228]\n",
      "  [222 226 227]\n",
      "  ...\n",
      "  [ 18  20  19]\n",
      "  [ 20  22  21]\n",
      "  [ 21  23  22]]\n",
      "\n",
      " [[223 227 228]\n",
      "  [223 227 228]\n",
      "  [221 225 226]\n",
      "  ...\n",
      "  [ 18  20  19]\n",
      "  [ 19  21  20]\n",
      "  [ 21  23  22]]]\n"
     ]
    }
   ],
   "source": [
    "#Visualitzo les dades\n",
    "print(img)"
   ]
  },
  {
   "cell_type": "code",
   "execution_count": 21,
   "id": "69337417",
   "metadata": {},
   "outputs": [
    {
     "name": "stdout",
     "output_type": "stream",
     "text": [
      "[[[109 109 109]\n",
      "  [108 108 108]\n",
      "  [105 105 105]\n",
      "  ...\n",
      "  [ 65  66  60]\n",
      "  [ 67  68  62]\n",
      "  [ 68  69  63]]\n",
      "\n",
      " [[107 107 107]\n",
      "  [107 107 107]\n",
      "  [104 104 104]\n",
      "  ...\n",
      "  [ 66  67  61]\n",
      "  [ 68  69  63]\n",
      "  [ 66  67  61]]\n",
      "\n",
      " [[106 106 106]\n",
      "  [106 106 106]\n",
      "  [104 104 104]\n",
      "  ...\n",
      "  [ 67  68  62]\n",
      "  [ 68  69  63]\n",
      "  [ 66  67  61]]\n",
      "\n",
      " ...\n",
      "\n",
      " [[253   1   2]\n",
      "  [254   2   3]\n",
      "  [252   0   1]\n",
      "  ...\n",
      "  [ 49  51  50]\n",
      "  [ 51  53  52]\n",
      "  [ 52  54  53]]\n",
      "\n",
      " [[253   1   2]\n",
      "  [253   1   2]\n",
      "  [252   0   1]\n",
      "  ...\n",
      "  [ 48  50  49]\n",
      "  [ 50  52  51]\n",
      "  [ 51  53  52]]\n",
      "\n",
      " [[253   1   2]\n",
      "  [253   1   2]\n",
      "  [251 255   0]\n",
      "  ...\n",
      "  [ 48  50  49]\n",
      "  [ 49  51  50]\n",
      "  [ 51  53  52]]]\n"
     ]
    }
   ],
   "source": [
    "#Les manipulo editant tots els valors\n",
    "img += 30\n",
    "print(img)"
   ]
  },
  {
   "cell_type": "code",
   "execution_count": 22,
   "id": "6daf6e64",
   "metadata": {},
   "outputs": [],
   "source": [
    "#Deso la imatge\n",
    "mpimg.imsave(\"prova_ex7.jpg\",img)"
   ]
  },
  {
   "cell_type": "code",
   "execution_count": 23,
   "id": "a84b0af4",
   "metadata": {},
   "outputs": [],
   "source": [
    "#Carrego un altre cop la imatge original\n",
    "img2 = mpimg.imread(\"20170904_165255.jpg\")"
   ]
  },
  {
   "cell_type": "code",
   "execution_count": 24,
   "id": "00630d91",
   "metadata": {},
   "outputs": [],
   "source": [
    "#Elimino la tercera columna de valors, on es guarden els valors del blau\n",
    "img_sense_blau = np.delete(img2,2,2)"
   ]
  },
  {
   "cell_type": "code",
   "execution_count": 25,
   "id": "9f308c85",
   "metadata": {},
   "outputs": [
    {
     "ename": "ValueError",
     "evalue": "Third dimension must be 3 or 4",
     "output_type": "error",
     "traceback": [
      "\u001b[1;31m---------------------------------------------------------------------------\u001b[0m",
      "\u001b[1;31mValueError\u001b[0m                                Traceback (most recent call last)",
      "\u001b[1;32m<ipython-input-25-12f5e2a5e02c>\u001b[0m in \u001b[0;36m<module>\u001b[1;34m\u001b[0m\n\u001b[0;32m      1\u001b[0m \u001b[1;31m#Intento desar la imatge pero no em deixarà ja que no accepta arrays amb 2 valors\u001b[0m\u001b[1;33m\u001b[0m\u001b[1;33m\u001b[0m\u001b[1;33m\u001b[0m\u001b[0m\n\u001b[1;32m----> 2\u001b[1;33m \u001b[0mmpimg\u001b[0m\u001b[1;33m.\u001b[0m\u001b[0mimsave\u001b[0m\u001b[1;33m(\u001b[0m\u001b[1;34m\"prva_senseblau_ex8.jpg\"\u001b[0m\u001b[1;33m,\u001b[0m\u001b[0mimg_sense_blau\u001b[0m\u001b[1;33m)\u001b[0m\u001b[1;33m\u001b[0m\u001b[1;33m\u001b[0m\u001b[0m\n\u001b[0m",
      "\u001b[1;32mc:\\users\\bastian\\appdata\\local\\programs\\python\\python39\\lib\\site-packages\\matplotlib\\image.py\u001b[0m in \u001b[0;36mimsave\u001b[1;34m(fname, arr, vmin, vmax, cmap, format, origin, dpi, metadata, pil_kwargs)\u001b[0m\n\u001b[0;32m   1580\u001b[0m             \u001b[0mrgba\u001b[0m \u001b[1;33m=\u001b[0m \u001b[0marr\u001b[0m\u001b[1;33m\u001b[0m\u001b[1;33m\u001b[0m\u001b[0m\n\u001b[0;32m   1581\u001b[0m         \u001b[1;32melse\u001b[0m\u001b[1;33m:\u001b[0m\u001b[1;33m\u001b[0m\u001b[1;33m\u001b[0m\u001b[0m\n\u001b[1;32m-> 1582\u001b[1;33m             \u001b[0mrgba\u001b[0m \u001b[1;33m=\u001b[0m \u001b[0msm\u001b[0m\u001b[1;33m.\u001b[0m\u001b[0mto_rgba\u001b[0m\u001b[1;33m(\u001b[0m\u001b[0marr\u001b[0m\u001b[1;33m,\u001b[0m \u001b[0mbytes\u001b[0m\u001b[1;33m=\u001b[0m\u001b[1;32mTrue\u001b[0m\u001b[1;33m)\u001b[0m\u001b[1;33m\u001b[0m\u001b[1;33m\u001b[0m\u001b[0m\n\u001b[0m\u001b[0;32m   1583\u001b[0m         \u001b[1;32mif\u001b[0m \u001b[0mpil_kwargs\u001b[0m \u001b[1;32mis\u001b[0m \u001b[1;32mNone\u001b[0m\u001b[1;33m:\u001b[0m\u001b[1;33m\u001b[0m\u001b[1;33m\u001b[0m\u001b[0m\n\u001b[0;32m   1584\u001b[0m             \u001b[0mpil_kwargs\u001b[0m \u001b[1;33m=\u001b[0m \u001b[1;33m{\u001b[0m\u001b[1;33m}\u001b[0m\u001b[1;33m\u001b[0m\u001b[1;33m\u001b[0m\u001b[0m\n",
      "\u001b[1;32mc:\\users\\bastian\\appdata\\local\\programs\\python\\python39\\lib\\site-packages\\matplotlib\\cm.py\u001b[0m in \u001b[0;36mto_rgba\u001b[1;34m(self, x, alpha, bytes, norm)\u001b[0m\n\u001b[0;32m    336\u001b[0m                     \u001b[0mxx\u001b[0m \u001b[1;33m=\u001b[0m \u001b[0mx\u001b[0m\u001b[1;33m\u001b[0m\u001b[1;33m\u001b[0m\u001b[0m\n\u001b[0;32m    337\u001b[0m                 \u001b[1;32melse\u001b[0m\u001b[1;33m:\u001b[0m\u001b[1;33m\u001b[0m\u001b[1;33m\u001b[0m\u001b[0m\n\u001b[1;32m--> 338\u001b[1;33m                     \u001b[1;32mraise\u001b[0m \u001b[0mValueError\u001b[0m\u001b[1;33m(\u001b[0m\u001b[1;34m\"Third dimension must be 3 or 4\"\u001b[0m\u001b[1;33m)\u001b[0m\u001b[1;33m\u001b[0m\u001b[1;33m\u001b[0m\u001b[0m\n\u001b[0m\u001b[0;32m    339\u001b[0m                 \u001b[1;32mif\u001b[0m \u001b[0mxx\u001b[0m\u001b[1;33m.\u001b[0m\u001b[0mdtype\u001b[0m\u001b[1;33m.\u001b[0m\u001b[0mkind\u001b[0m \u001b[1;33m==\u001b[0m \u001b[1;34m'f'\u001b[0m\u001b[1;33m:\u001b[0m\u001b[1;33m\u001b[0m\u001b[1;33m\u001b[0m\u001b[0m\n\u001b[0;32m    340\u001b[0m                     \u001b[1;32mif\u001b[0m \u001b[0mnorm\u001b[0m \u001b[1;32mand\u001b[0m \u001b[1;33m(\u001b[0m\u001b[0mxx\u001b[0m\u001b[1;33m.\u001b[0m\u001b[0mmax\u001b[0m\u001b[1;33m(\u001b[0m\u001b[1;33m)\u001b[0m \u001b[1;33m>\u001b[0m \u001b[1;36m1\u001b[0m \u001b[1;32mor\u001b[0m \u001b[0mxx\u001b[0m\u001b[1;33m.\u001b[0m\u001b[0mmin\u001b[0m\u001b[1;33m(\u001b[0m\u001b[1;33m)\u001b[0m \u001b[1;33m<\u001b[0m \u001b[1;36m0\u001b[0m\u001b[1;33m)\u001b[0m\u001b[1;33m:\u001b[0m\u001b[1;33m\u001b[0m\u001b[1;33m\u001b[0m\u001b[0m\n",
      "\u001b[1;31mValueError\u001b[0m: Third dimension must be 3 or 4"
     ]
    }
   ],
   "source": [
    "#Intento desar la imatge pero no em deixarà ja que no accepta arrays amb 2 valors\n",
    "mpimg.imsave(\"prva_senseblau_ex8.jpg\",img_sense_blau)"
   ]
  },
  {
   "cell_type": "code",
   "execution_count": 26,
   "id": "2f48115b",
   "metadata": {},
   "outputs": [],
   "source": [
    "#En canvi, si canviem el valor per 0, si que ens deixa i elimina tot color blau de la imatge\n",
    "img2[:,:,2] = 0"
   ]
  },
  {
   "cell_type": "code",
   "execution_count": 27,
   "id": "1c85d6e4",
   "metadata": {},
   "outputs": [],
   "source": [
    "mpimg.imsave(\"prva_senseblau_ex8_2.jpg\",img2)"
   ]
  },
  {
   "cell_type": "code",
   "execution_count": null,
   "id": "a210622d",
   "metadata": {},
   "outputs": [],
   "source": []
  }
 ],
 "metadata": {
  "kernelspec": {
   "display_name": "Python 3",
   "language": "python",
   "name": "python3"
  },
  "language_info": {
   "codemirror_mode": {
    "name": "ipython",
    "version": 3
   },
   "file_extension": ".py",
   "mimetype": "text/x-python",
   "name": "python",
   "nbconvert_exporter": "python",
   "pygments_lexer": "ipython3",
   "version": "3.9.6"
  }
 },
 "nbformat": 4,
 "nbformat_minor": 5
}
